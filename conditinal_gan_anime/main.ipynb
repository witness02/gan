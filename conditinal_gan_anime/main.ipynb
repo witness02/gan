{
 "cells": [
  {
   "cell_type": "code",
   "execution_count": 1,
   "metadata": {
    "collapsed": true
   },
   "outputs": [],
   "source": [
    "import torch\n",
    "import torchvision\n",
    "import pandas as pd\n",
    "import numpy as np\n",
    "\n",
    "from util import AnimeDataSet"
   ]
  },
  {
   "cell_type": "code",
   "execution_count": 8,
   "metadata": {
    "collapsed": true
   },
   "outputs": [],
   "source": [
    "tag = pd.read_csv('data/extra_data/tags.csv')"
   ]
  },
  {
   "cell_type": "code",
   "execution_count": 9,
   "metadata": {},
   "outputs": [
    {
     "data": {
      "text/plain": [
       "'aqua hair aqua eyes'"
      ]
     },
     "execution_count": 9,
     "metadata": {},
     "output_type": "execute_result"
    }
   ],
   "source": [
    "tag.iloc[1,1]"
   ]
  },
  {
   "cell_type": "code",
   "execution_count": 2,
   "metadata": {
    "collapsed": true
   },
   "outputs": [],
   "source": [
    "dataset = AnimeDataSet(csv_file='data/extra_data/tags.csv', root_dir='data/extra_data/images/', transform=None)"
   ]
  },
  {
   "cell_type": "code",
   "execution_count": 6,
   "metadata": {},
   "outputs": [
    {
     "data": {
      "text/plain": [
       "array([[[229, 250, 241],\n",
       "        [223, 253, 241],\n",
       "        [216, 255, 248],\n",
       "        ...,\n",
       "        [166, 239, 245],\n",
       "        [124, 207, 211],\n",
       "        [103, 198, 204]],\n",
       "\n",
       "       [[228, 249, 240],\n",
       "        [224, 255, 245],\n",
       "        [209, 251, 247],\n",
       "        ...,\n",
       "        [165, 242, 248],\n",
       "        [132, 217, 222],\n",
       "        [110, 203, 208]],\n",
       "\n",
       "       [[223, 249, 240],\n",
       "        [220, 255, 249],\n",
       "        [198, 244, 244],\n",
       "        ...,\n",
       "        [156, 239, 247],\n",
       "        [135, 222, 229],\n",
       "        [119, 206, 213]],\n",
       "\n",
       "       ...,\n",
       "\n",
       "       [[255, 220, 188],\n",
       "        [255, 220, 189],\n",
       "        [255, 224, 190],\n",
       "        ...,\n",
       "        [128, 142, 203],\n",
       "        [130, 147, 190],\n",
       "        [149, 175, 200]],\n",
       "\n",
       "       [[255, 226, 188],\n",
       "        [255, 224, 189],\n",
       "        [255, 226, 192],\n",
       "        ...,\n",
       "        [140, 159, 227],\n",
       "        [140, 161, 218],\n",
       "        [130, 159, 203]],\n",
       "\n",
       "       [[245, 232, 188],\n",
       "        [245, 230, 189],\n",
       "        [249, 231, 195],\n",
       "        ...,\n",
       "        [153, 176, 244],\n",
       "        [155, 177, 235],\n",
       "        [152, 183, 230]]], dtype=uint8)"
      ]
     },
     "execution_count": 6,
     "metadata": {},
     "output_type": "execute_result"
    }
   ],
   "source": [
    "d = next(iter(dataset))\n",
    "d['image']"
   ]
  },
  {
   "cell_type": "code",
   "execution_count": null,
   "metadata": {
    "collapsed": true
   },
   "outputs": [],
   "source": []
  }
 ],
 "metadata": {
  "kernelspec": {
   "display_name": "Python 3",
   "language": "python",
   "name": "python3"
  },
  "language_info": {
   "codemirror_mode": {
    "name": "ipython",
    "version": 3
   },
   "file_extension": ".py",
   "mimetype": "text/x-python",
   "name": "python",
   "nbconvert_exporter": "python",
   "pygments_lexer": "ipython3",
   "version": "3.5.4"
  }
 },
 "nbformat": 4,
 "nbformat_minor": 2
}
